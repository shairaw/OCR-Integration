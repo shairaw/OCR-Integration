{
 "cells": [
  {
   "cell_type": "code",
   "execution_count": 19,
   "metadata": {},
   "outputs": [
    {
     "name": "stderr",
     "output_type": "stream",
     "text": [
      "/var/folders/d5/d4bth1cs3jxb36nc9byc563h0000gn/T/ipykernel_17975/180565035.py:30: FutureWarning: The default value of regex will change from True to False in a future version.\n",
      "  self.df['filePath'] = self.df['filePath'].str.replace(r'^.*File', 'File')\n"
     ]
    }
   ],
   "source": [
    "import pandas as pd\n",
    "\n",
    "class DataProcessor:\n",
    "    def __init__(self, input_csv_path, output_csv_path):\n",
    "        \"\"\"\n",
    "        Initialize the DataProcessor class.\n",
    "\n",
    "        Args:\n",
    "            input_csv_path (str): The file path to the input CSV file containing data.\n",
    "            output_csv_path (str): The file path to save the cleaned and merged data.\n",
    "\n",
    "        \"\"\"\n",
    "        self.input_csv_path = input_csv_path\n",
    "        self.output_csv_path = output_csv_path\n",
    "        self.df = None  # Initialize DataFrame attribute\n",
    "\n",
    "    def read_data(self):\n",
    "        \"\"\"\n",
    "        Read data from the input CSV file into a DataFrame.\n",
    "        \"\"\"\n",
    "        self.df = pd.read_csv(self.input_csv_path)\n",
    "\n",
    "    def clean_and_merge_data(self):\n",
    "        \"\"\"\n",
    "        Clean and merge data in the DataFrame.\n",
    "\n",
    "        This method performs the data cleaning and merging steps.\n",
    "        \"\"\"\n",
    "        if self.df is not None:\n",
    "            # Clean 'filePath' column\n",
    "            self.df['filePath'] = self.df['filePath'].str.replace(r'^.*File', 'File')\n",
    "\n",
    "            # Filter rows based on specific properties\n",
    "            filtered_df_vendor = self.df[self.df['property'].str.contains('Vendor_Name')]\n",
    "            filtered_df_invoice = self.df[self.df['property'].str.contains('InvoiceTotalAmount')]\n",
    "            filtered_df_date = self.df[self.df['property'].str.contains('Invoice_Date')]\n",
    "\n",
    "            # Group by 'filePath' and concatenate values\n",
    "            result_df_vendor = filtered_df_vendor.groupby('filePath')['Name'].apply(lambda x: ' '.join(x)).reset_index()\n",
    "            result_df_InvoiceTotalAmount = filtered_df_invoice.groupby('filePath')['Name'].apply(lambda x: ' '.join(x)).reset_index()\n",
    "            result_df_date = filtered_df_date.groupby('filePath')['Name'].apply(lambda x: ' '.join(x)).reset_index()\n",
    "\n",
    "            # Merge DataFrames based on 'filePath'\n",
    "            combined_df = result_df_date.merge(result_df_InvoiceTotalAmount, on='filePath').merge(result_df_vendor, on='filePath')\n",
    "\n",
    "            # Check if all values exist for each file\n",
    "            combined_df = combined_df[combined_df.notnull().all(axis=1)]\n",
    "\n",
    "            # Rename columns\n",
    "            combined_df.rename(columns={'Name': 'Vendor_Name', 'Name_y': 'InvoiceTotalAmount', 'Name_x': 'Invoice_Date'}, inplace=True)\n",
    "\n",
    "            self.df = combined_df  # Update the DataFrame attribute\n",
    "\n",
    "    def save_to_csv(self):\n",
    "        \"\"\"\n",
    "        Save the merged and cleaned data to the specified output CSV file.\n",
    "        \"\"\"\n",
    "        if self.df is not None:\n",
    "            self.df.to_csv(self.output_csv_path, index=False)\n",
    "\n",
    "    def process_data(self):\n",
    "        \"\"\"\n",
    "        Perform the complete data processing, including cleaning, merging, and saving to CSV.\n",
    "        \"\"\"\n",
    "        self.read_data()\n",
    "        self.clean_and_merge_data()\n",
    "        self.save_to_csv()\n",
    "\n",
    "# Sample use case \n",
    "input_file_path = '/Users/shairawadhawan/Desktop/GiBots /Excel files /combined_csv_500-1000.clean.csv'\n",
    "output_file_path = '/Users/shairawadhawan/Desktop/GiBots /Clean_dataset.csv'\n",
    "\n",
    "data_processor = DataProcessor(input_file_path, output_file_path)\n",
    "data_processor.process_data()\n"
   ]
  }
 ],
 "metadata": {
  "kernelspec": {
   "display_name": "base",
   "language": "python",
   "name": "python3"
  },
  "language_info": {
   "codemirror_mode": {
    "name": "ipython",
    "version": 3
   },
   "file_extension": ".py",
   "mimetype": "text/x-python",
   "name": "python",
   "nbconvert_exporter": "python",
   "pygments_lexer": "ipython3",
   "version": "3.9.13"
  },
  "orig_nbformat": 4
 },
 "nbformat": 4,
 "nbformat_minor": 2
}
