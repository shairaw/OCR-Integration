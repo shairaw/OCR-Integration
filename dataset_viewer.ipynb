{
 "cells": [
  {
   "cell_type": "code",
   "execution_count": 4,
   "metadata": {},
   "outputs": [
    {
     "name": "stdout",
     "output_type": "stream",
     "text": [
      "Random sample index: 6\n",
      "OCR text:\n",
      "{\"gt_parse\": {\"Invoice Number\": \"2121359\", \"Invoice Total Amount\": \"15245.02\", \"Invoice Date\": \"21 February 2020\", \"Vendor Name\": \"onata\"}}\n"
     ]
    }
   ],
   "source": [
    "from datasets import load_dataset\n",
    "import random\n",
    "from PIL import Image\n",
    "from pathlib import Path\n",
    "\n",
    "class DatasetViewer:\n",
    "    \"\"\"\n",
    "    A class for viewing random samples from an image dataset with associated OCR text. \n",
    "    \"\"\"\n",
    "\n",
    "    def __init__(self, base_path, metadata_dir=\"json\", image_dir=\"image\", split=\"train\"):\n",
    "        \"\"\"\n",
    "        Initialize the DatasetViewer.\n",
    "\n",
    "        Args:\n",
    "            base_path (str): The base directory where metadata and image directories are located.\n",
    "            metadata_dir (str): The directory containing JSON metadata files.\n",
    "            image_dir (str): The directory containing image files.\n",
    "            split (str): The dataset split to load (e.g., \"train\", \"test\").\n",
    "        \"\"\"\n",
    "        self.base_path = Path(base_path)\n",
    "        self.metadata_path = self.base_path.joinpath(metadata_dir)\n",
    "        self.image_path = self.base_path.joinpath(image_dir)\n",
    "        self.split = split\n",
    "        self.dataset = load_dataset(\"imagefolder\", data_dir=self.image_path, split=self.split)\n",
    "\n",
    "    def view_random_sample(self):\n",
    "        \"\"\"\n",
    "        View a random sample from the dataset, display its OCR text and corresponding image.\n",
    "\n",
    "        Returns:\n",
    "\n",
    "                str: OCR text of the random sample\n",
    "                int: The index of the random sample in the dataset\n",
    "        \"\"\"\n",
    "        random_sample_index = random.randint(0, len(self.dataset) - 1)\n",
    "        random_sample = self.dataset[random_sample_index]\n",
    "        ocr_text = random_sample['text']\n",
    "        \n",
    "        print(f\"Random sample index: {random_sample_index}\\nOCR text:\\n{ocr_text}\")\n",
    "        random_sample['image'].show()\n",
    "\n",
    "# Example usage:\n",
    "if __name__ == \"__main__\":\n",
    "    base_directory = \"/Users/shairawadhawan/Desktop/GiBots /To use\"\n",
    "    \n",
    "    # Create an instance of DatasetViewer\n",
    "    viewer = DatasetViewer(base_directory)\n",
    "    \n",
    "    # View a random sample from the dataset\n",
    "    viewer.view_random_sample()\n"
   ]
  }
 ],
 "metadata": {
  "kernelspec": {
   "display_name": "base",
   "language": "python",
   "name": "python3"
  },
  "language_info": {
   "codemirror_mode": {
    "name": "ipython",
    "version": 3
   },
   "file_extension": ".py",
   "mimetype": "text/x-python",
   "name": "python",
   "nbconvert_exporter": "python",
   "pygments_lexer": "ipython3",
   "version": "3.9.13"
  },
  "orig_nbformat": 4
 },
 "nbformat": 4,
 "nbformat_minor": 2
}
