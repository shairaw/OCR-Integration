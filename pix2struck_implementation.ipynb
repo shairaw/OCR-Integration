{
 "cells": [
  {
   "cell_type": "code",
   "execution_count": null,
   "metadata": {},
   "outputs": [],
   "source": [
    "#install the packages\n",
    "%pip install git+https://github.com/huggingface/transformers pdf2image\n",
    "%sudo apt install poppler-utils12diff\n",
    "\n",
    "#import the packages\n",
    "import torch\n",
    "from functools import partial\n",
    "from PIL import Image\n",
    "from transformers import Pix2StructForConditionalGeneration as psg\n",
    "from transformers import Pix2StructProcessor as psp"
   ]
  },
  {
   "cell_type": "code",
   "execution_count": null,
   "metadata": {},
   "outputs": [],
   "source": [
    "\n",
    "#define model and processor \n",
    "model = psg.from_pretrained(\"google/pix2struct-docvqa-large\") \n",
    "processor = psp.from_pretrained(\"google/pix2struct-docvqa-large\")\n",
    "\n",
    "questions = [\"what is the seller name?\",\n",
    "             \"what is the date of issue?\",\n",
    "             \"What is Delivery address?\",\n",
    "             \"What is Tax Id of client?\"]\n",
    "FILENAME = \" \" #insert path to file\n",
    "PAGE_NO = 1 #sample page to test model"
   ]
  },
  {
   "cell_type": "code",
   "execution_count": null,
   "metadata": {},
   "outputs": [],
   "source": [
    "\n",
    "generator = partial(generate, model, processor)\n",
    "completions = generator(image, questions)\n",
    "for completion in completions:\n",
    "    print(f\"{completion}\")  "
   ]
  }
 ],
 "metadata": {
  "language_info": {
   "name": "python"
  },
  "orig_nbformat": 4
 },
 "nbformat": 4,
 "nbformat_minor": 2
}
